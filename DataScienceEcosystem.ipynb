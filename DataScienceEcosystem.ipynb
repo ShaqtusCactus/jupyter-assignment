{
 "cells": [
  {
   "cell_type": "markdown",
   "id": "63519383-b328-48b7-919c-87ccf6ae3496",
   "metadata": {},
   "source": [
    "# Data Science Tools and Ecosystem"
   ]
  },
  {
   "cell_type": "markdown",
   "id": "2758de61-83dd-4981-aeed-fd9e8115fe5a",
   "metadata": {},
   "source": [
    "In this notebook, Data Science Tools and Ecosystem are summarized."
   ]
  },
  {
   "cell_type": "markdown",
   "id": "11ebcbdf-135e-4125-90d2-8adac060067b",
   "metadata": {},
   "source": [
    "**Objectives:**\n",
    "- popular languages\n",
    "- common used libraries\n",
    "- how to make tables in python\n",
    "- how to navigate jupyter "
   ]
  },
  {
   "cell_type": "markdown",
   "id": "aabb439f-daf1-4692-ba6c-e83b625c407f",
   "metadata": {},
   "source": [
    "Some of the popular languages that Data Scientists use are:\n",
    "1. phyton\n",
    "2. R\n",
    "3. SQL"
   ]
  },
  {
   "cell_type": "code",
   "execution_count": null,
   "id": "6bf02ff2-b491-4cb9-b391-7d121b01e393",
   "metadata": {},
   "outputs": [],
   "source": [
    "# Some of the commonly used libraries used by Data Scientists include:\n",
    "1. pandas\n",
    "2. plotly\n",
    "3. tensorflow"
   ]
  },
  {
   "cell_type": "markdown",
   "id": "90ad46b0-813f-4fde-b5eb-1f54eb706db1",
   "metadata": {},
   "source": [
    "|data science tools|\n",
    "|------------------|\n",
    "| Jupyter Notebook |\n",
    "| Rstudios |\n",
    "| Apache Zeppelin |\n"
   ]
  },
  {
   "cell_type": "markdown",
   "id": "112e292b-d58d-4e51-b09c-bde8d19c98d6",
   "metadata": {},
   "source": [
    "### below are a few examples of evaluating arithmetic expressions in Python"
   ]
  },
  {
   "cell_type": "code",
   "execution_count": 8,
   "id": "00e41808-fbeb-44b4-8097-9a6f2f1ebcd2",
   "metadata": {
    "scrolled": true
   },
   "outputs": [
    {
     "data": {
      "text/plain": [
       "17"
      ]
     },
     "execution_count": 8,
     "metadata": {},
     "output_type": "execute_result"
    }
   ],
   "source": [
    "# This a simple arithmetic expression to mutiply then add integers\n",
    "\n",
    "3*4+5"
   ]
  },
  {
   "cell_type": "code",
   "execution_count": 9,
   "id": "35293a45-713a-438b-b1a4-0b31e702fc5f",
   "metadata": {},
   "outputs": [
    {
     "data": {
      "text/plain": [
       "3.3333333333333335"
      ]
     },
     "execution_count": 9,
     "metadata": {},
     "output_type": "execute_result"
    }
   ],
   "source": [
    "# This will convert 200 minutes to hours by diving by 60\n",
    "minutes = 200\n",
    "hours = minutes / 60\n",
    "hours"
   ]
  },
  {
   "cell_type": "markdown",
   "id": "93efb2fa-fb28-476b-a2c2-5671595f1941",
   "metadata": {},
   "source": [
    "## Author:\n",
    "Shaquille Doorson\n"
   ]
  },
  {
   "cell_type": "code",
   "execution_count": null,
   "id": "d7a0992f-165e-4c20-b80d-7a61415eec9f",
   "metadata": {},
   "outputs": [],
   "source": []
  }
 ],
 "metadata": {
  "kernelspec": {
   "display_name": "Python 3 (ipykernel)",
   "language": "python",
   "name": "python3"
  },
  "language_info": {
   "codemirror_mode": {
    "name": "ipython",
    "version": 3
   },
   "file_extension": ".py",
   "mimetype": "text/x-python",
   "name": "python",
   "nbconvert_exporter": "python",
   "pygments_lexer": "ipython3",
   "version": "3.11.9"
  }
 },
 "nbformat": 4,
 "nbformat_minor": 5
}
